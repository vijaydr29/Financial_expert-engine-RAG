{
 "cells": [
  {
   "cell_type": "code",
   "execution_count": null,
   "metadata": {},
   "outputs": [],
   "source": [
    "import streamlit as st\n",
    "from langchain import hub\n",
    "from langchain.text_splitter import RecursiveCharacterTextSplitter\n",
    "from langchain_community.document_loaders import PyPDFLoader\n",
    "from langchain_community.vectorstores import FAISS\n",
    "from langchain_core.output_parsers import StrOutputParser\n",
    "from langchain_core.runnables import RunnablePassthrough\n",
    "from langchain_openai import ChatOpenAI, OpenAIEmbeddings\n",
    "from langchain.prompts import ChatPromptTemplate\n",
    "import os\n",
    "# Cache the function to load and process PDF documents\n",
    "@st.cache(allow_output_mutation=True)\n",
    "def load_and_process_pdfs(pdf_folder_path):\n",
    "    documents = []\n",
    "    for file in os.listdir(pdf_folder_path):\n",
    "        if file.endswith('.pdf'):\n",
    "            pdf_path = os.path.join(pdf_folder_path, file)\n",
    "            loader = PyPDFLoader(pdf_path)\n",
    "            documents.extend(loader.load())\n",
    "    text_splitter = RecursiveCharacterTextSplitter(chunk_size=1000, chunk_overlap=200)\n",
    "    splits = text_splitter.split_documents(documents)\n",
    "    return splits\n",
    "# Cache the function to initialize the vector store with documents\n",
    "@st.cache(allow_output_mutation=True)\n",
    "def initialize_vectorstore(splits):\n",
    "    return FAISS.from_documents(documents=splits, embedding=OpenAIEmbeddings(api_key=\"Your Key\"))\n",
    "pdf_folder_path = \"./fin_ed_docs\"\n",
    "splits = load_and_process_pdfs(pdf_folder_path)\n",
    "vectorstore = initialize_vectorstore(splits)\n",
    "prompt_template = \"\"\"You are a finance expert. You need to answer the question related to finance. \n",
    "Given below is the context and question of the user. Don't answer question outside the context provided.\n",
    "context = {context}\n",
    "question = {question}\n",
    "\"\"\"\n",
    "prompt = ChatPromptTemplate.from_template(prompt_template)\n",
    "llm = ChatOpenAI(model_name=\"gpt-3.5-turbo\", temperature=0, api_key=\"Your Key\")\n",
    "def format_docs(docs):\n",
    "    return \"\\n\\n\".join(doc.page_content for doc in docs)\n",
    "rag_chain = (\n",
    "    {\"context\": vectorstore.as_retriever() | format_docs, \"question\": RunnablePassthrough()}\n",
    "    | prompt\n",
    "    | llm\n",
    "    | StrOutputParser()\n",
    ")\n",
    "# Streamlit app\n",
    "st.title(\"Finance Expert\")\n",
    "user_input = st.text_input(\"Enter your question about finance:\", \"\")\n",
    "if st.button(\"Submit\"):\n",
    "    try:\n",
    "        response = rag_chain.invoke(user_input)\n",
    "        st.write(response)\n",
    "    except Exception as e:\n",
    "        st.write(f\"An error occurred: {e}\")"
   ]
  }
 ],
 "metadata": {
  "kernelspec": {
   "display_name": "fin_env",
   "language": "python",
   "name": "python3"
  },
  "language_info": {
   "name": "python",
   "version": "3.12.6"
  }
 },
 "nbformat": 4,
 "nbformat_minor": 2
}
